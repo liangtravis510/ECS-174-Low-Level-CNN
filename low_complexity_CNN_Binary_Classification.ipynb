{
 "cells": [
  {
   "cell_type": "markdown",
   "metadata": {
    "id": "r0-ixM0igtBz"
   },
   "source": [
    "# Binary Classification using Low-Approximate ConvNet Approach\n",
    "In this jupyter notebook, we are trying to simplify the the complexity of ConvNet because of the growing number of paramemters requiring huge amounts of computerational resources. The goal of this final project is to create a code base for people to see the reduction of computation cost while still mainting ConvNet performance"
   ]
  },
  {
   "cell_type": "markdown",
   "metadata": {
    "id": "wD3lMkluh7WZ"
   },
   "source": [
    "## Importing data for training\n",
    "In this section we need download a couple of things and upload it on to google drive.\n",
    "\n",
    "Through this [link](http://shuoyang1213.me/WIDERFACE/) you will find a goole drive link for the following:\n",
    "\n",
    "[WIDER_train.zip](https://drive.google.com/file/d/15hGDLhsx8bLgLcIRD5DhYt5iBxnjNF1M/view): WIDER Face Training Images\n",
    "\n",
    "[WIDER_val.zip](https://drive.google.com/file/d/1GUCogbp16PMGa39thoMMeWxp7Rp5oM8Q/view): WIDER FACE Validation Images\n",
    "\n",
    "[wider_face_split](http://shuoyang1213.me/WIDERFACE/support/bbx_annotation/wider_face_split.zip): WIDER FACE annotations\n"
   ]
  },
  {
   "cell_type": "code",
   "execution_count": 2,
   "metadata": {
    "colab": {
     "base_uri": "https://localhost:8080/"
    },
    "id": "T8US1qdbCL3y",
    "outputId": "190a2e8c-3a68-45c4-bdfe-15ea76437456"
   },
   "outputs": [],
   "source": [
    "# from google.colab import drive\n",
    "# drive.mount('/content/drive')"
   ]
  },
  {
   "cell_type": "code",
   "execution_count": 3,
   "metadata": {
    "id": "XDeHLLQLZf60"
   },
   "outputs": [],
   "source": [
    "# import zipfile\n",
    "# import os\n",
    "\n",
    "# # Replace this with your file location of WIDER_train.zip\n",
    "# zip_file = \"/content/drive/MyDrive/WIDERFACE Dataset/WIDER_train.zip\"\n",
    "# destination_folder = \"/content/\"\n",
    "# with zipfile.ZipFile(zip_file, 'r') as zip_ref:\n",
    "#     zip_ref.extractall(destination_folder)\n",
    "\n",
    "# # Replace this with your file location of WIDER_val.zip\n",
    "# zip_file = \"/content/drive/MyDrive/WIDERFACE Dataset/WIDER_val.zip\"\n",
    "# destination_folder = \"/content/\"\n",
    "# with zipfile.ZipFile(zip_file, 'r') as zip_ref:\n",
    "#     zip_ref.extractall(destination_folder)\n",
    "\n",
    "# # Replace this with your file location of wider_face_split.zip\n",
    "# zip_file = \"/content/drive/MyDrive/WIDERFACE Dataset/wider_face_split.zip\"\n",
    "# destination_folder = \"/content/\"\n",
    "# with zipfile.ZipFile(zip_file, 'r') as zip_ref:\n",
    "#     zip_ref.extractall(destination_folder)"
   ]
  },
  {
   "cell_type": "markdown",
   "metadata": {
    "id": "V_zT--Yni2c3"
   },
   "source": [
    "# 1) WIDERFACE Dataset\n",
    "In this section will format our data such that it is able to be used for WIDERFaceBinaryDataset class"
   ]
  },
  {
   "cell_type": "markdown",
   "metadata": {
    "id": "1ZPYzh8YjPEc"
   },
   "source": [
    "## 1a) Importing libraries for WIDERFaceBinaryDataset Class"
   ]
  },
  {
   "cell_type": "code",
   "execution_count": 4,
   "metadata": {
    "id": "cxZU0nQWdNxd"
   },
   "outputs": [],
   "source": [
    "import os\n",
    "import cv2\n",
    "import random\n",
    "import torch\n",
    "import matplotlib.pyplot as plt\n",
    "import torchvision\n",
    "from torch.utils.data import Dataset\n",
    "from torchvision.transforms import Compose, ToTensor, Normalize\n",
    "import random\n"
   ]
  },
  {
   "cell_type": "markdown",
   "metadata": {
    "id": "-HuvJFj8jevv"
   },
   "source": [
    "## 1b) WIDERFaceBinaryDataset Class\n",
    "\n",
    "Some things to note about the dataset class:\n",
    "\n",
    "a) due to the fact in the annotations, there is something weird annotation issues with wider_face_train_bbx_gt.txt, I had to alter `_load_annotations` as well as `_crop_and_resize` to adjust for resizing the images to 32 x 36\n",
    "\n",
    "b) Since the dataset uploaded was used originally for face detection, we have to alter the dataset for binary classification\n",
    "\n"
   ]
  },
  {
   "cell_type": "code",
   "execution_count": 5,
   "metadata": {
    "id": "Odqia_UVq4wP"
   },
   "outputs": [],
   "source": [
    "class WIDERFaceBinaryDataset(Dataset):\n",
    "    def __init__(self, image_dir, annotations_file, transform=None, img_size=(32, 36), neg_samples_per_img=5):\n",
    "        self.image_dir = image_dir\n",
    "        self.annotations = self._load_annotations(annotations_file)\n",
    "        self.transform = transform\n",
    "        self.img_size = img_size\n",
    "        self.neg_samples_per_img = neg_samples_per_img\n",
    "        self.data = self._prepare_data()\n",
    "\n",
    "    def _load_annotations(self, annotations_file):\n",
    "        annotations = {}\n",
    "        with open(annotations_file, \"r\") as file:\n",
    "            lines = file.readlines()\n",
    "            idx = 0\n",
    "            while idx < len(lines):\n",
    "                image_path = lines[idx].strip()\n",
    "                idx += 1\n",
    "\n",
    "                if idx < len(lines):\n",
    "                    try:\n",
    "                        num_faces = int(lines[idx].strip())\n",
    "                    except ValueError:\n",
    "                        continue\n",
    "                    idx += 1\n",
    "\n",
    "                    bboxes = []\n",
    "                    if num_faces > 0:\n",
    "                        for _ in range(num_faces):\n",
    "                            if idx < len(lines):\n",
    "                                bbox_info = list(map(int, lines[idx].strip().split()[:4]))\n",
    "                                if bbox_info[2] > 0 and bbox_info[3] > 0:\n",
    "                                    bboxes.append(bbox_info)\n",
    "                                idx += 1\n",
    "                    annotations[image_path] = bboxes\n",
    "        return annotations\n",
    "\n",
    "    def _crop_and_resize(self, image, bbox):\n",
    "        x, y, w, h = bbox\n",
    "        height, width, _ = image.shape\n",
    "\n",
    "        x = max(0, x)\n",
    "        y = max(0, y)\n",
    "        w = min(w, width - x)\n",
    "        h = min(h, height - y)\n",
    "\n",
    "        if w <= 0 or h <= 0:\n",
    "            raise ValueError(f\"Invalid bounding box with zero area: {bbox}\")\n",
    "\n",
    "        cropped = image[y:y + h, x:x + w]\n",
    "        resized = cv2.resize(cropped, (36, 32))\n",
    "        grayscale = cv2.cvtColor(resized, cv2.COLOR_BGR2GRAY)\n",
    "        return grayscale\n",
    "\n",
    "    def _generate_negative_samples(self, image, bboxes):\n",
    "        neg_samples = []\n",
    "        height, width, _ = image.shape\n",
    "        for _ in range(self.neg_samples_per_img):\n",
    "            while True:\n",
    "                x = random.randint(0, width - self.img_size[0])\n",
    "                y = random.randint(0, height - self.img_size[1])\n",
    "                candidate_bbox = [x, y, self.img_size[0], self.img_size[1]]\n",
    "\n",
    "                if not any(self._is_overlap(candidate_bbox, bb) for bb in bboxes):\n",
    "                    cropped = image[y:y + self.img_size[1], x:x + self.img_size[0]]\n",
    "                    resized = cv2.resize(cropped, self.img_size)\n",
    "                    grayscale = cv2.cvtColor(resized, cv2.COLOR_BGR2GRAY)\n",
    "                    neg_samples.append(grayscale)\n",
    "                    break\n",
    "        return neg_samples\n",
    "\n",
    "    def _is_overlap(self, box1, box2):\n",
    "        x1, y1, w1, h1 = box1\n",
    "        x2, y2, w2, h2 = box2\n",
    "        return not (x1 + w1 <= x2 or x2 + w2 <= x1 or y1 + h1 <= y2 or y2 + h2 <= y1)\n",
    "\n",
    "    def _prepare_data(self):\n",
    "        \"\"\"\n",
    "        Flatten the dataset to return one sample (image, label) per index.\n",
    "        \"\"\"\n",
    "        data = []\n",
    "        for image_path, bboxes in self.annotations.items():\n",
    "            # Load the image\n",
    "            full_image_path = os.path.join(self.image_dir, image_path)\n",
    "            image = cv2.imread(full_image_path)\n",
    "            if image is None:\n",
    "                continue\n",
    "\n",
    "            # Add positive samples\n",
    "            for bbox in bboxes:\n",
    "                face = self._crop_and_resize(image, bbox)\n",
    "                data.append((face, 1))  # Positive label: 1\n",
    "\n",
    "            # Add negative samples\n",
    "            negatives = self._generate_negative_samples(image, bboxes)\n",
    "            for neg in negatives:\n",
    "                data.append((neg, 0))  # Negative label: 0\n",
    "\n",
    "        return data\n",
    "\n",
    "    def __len__(self):\n",
    "        return len(self.data)\n",
    "\n",
    "    def __getitem__(self, idx):\n",
    "        image, label = self.data[idx]\n",
    "        if self.transform:\n",
    "            image = self.transform(image)\n",
    "\n",
    "        # Ensure the image dimensions are consistent (Height × Width = 32 × 36)\n",
    "        if image.shape[-2:] != (32, 36):\n",
    "            image = image.permute(0, 2, 1)\n",
    "        return image, label"
   ]
  },
  {
   "cell_type": "markdown",
   "metadata": {
    "id": "rM4TzIxmjuq6"
   },
   "source": [
    "## 1c) Visualizing Function to verify the dataset is sorting positive with negative faces"
   ]
  },
  {
   "cell_type": "code",
   "execution_count": 6,
   "metadata": {
    "id": "m9JFY229gFKg"
   },
   "outputs": [],
   "source": [
    "import matplotlib.pyplot as plt\n",
    "\n",
    "def visualize_samples(dataset, num_samples=16):\n",
    "    \"\"\"\n",
    "    Visualize positive and negative samples from the dataset.\n",
    "\n",
    "    Args:\n",
    "        dataset (WIDERFaceBinaryDataset): The dataset object.\n",
    "        num_samples (int): Number of samples to visualize for each class.\n",
    "    \"\"\"\n",
    "    positive_samples = []\n",
    "    negative_samples = []\n",
    "\n",
    "    # Separate positive and negative samples\n",
    "    for image, label in dataset:\n",
    "        if label == 1 and len(positive_samples) < num_samples:\n",
    "            positive_samples.append(image)\n",
    "        elif label == 0 and len(negative_samples) < num_samples:\n",
    "            negative_samples.append(image)\n",
    "\n",
    "        if len(positive_samples) >= num_samples and len(negative_samples) >= num_samples:\n",
    "            break\n",
    "\n",
    "    # Plot positive samples\n",
    "    plt.figure(figsize=(12, 6))\n",
    "    plt.suptitle(\"Positive Samples (Faces)\", fontsize=16)\n",
    "    for i, img in enumerate(positive_samples):\n",
    "        plt.subplot(4, 4, i + 1)  # Adjust grid size for num_samples\n",
    "        img = img.permute(1, 2, 0).numpy()  # Convert to HWC format for visualization\n",
    "        plt.imshow(img.squeeze(), cmap=\"gray\")  # Grayscale visualization\n",
    "        plt.axis(\"off\")\n",
    "    plt.tight_layout()\n",
    "    plt.show()\n",
    "\n",
    "    # Plot negative samples\n",
    "    plt.figure(figsize=(12, 6))\n",
    "    plt.suptitle(\"Negative Samples (Non-Faces)\", fontsize=16)\n",
    "    for i, img in enumerate(negative_samples):\n",
    "        plt.subplot(4, 4, i + 1)  # Adjust grid size for num_samples\n",
    "        img = img.permute(1, 2, 0).numpy()  # Convert to HWC format for visualization\n",
    "        plt.imshow(img.squeeze(), cmap=\"gray\")  # Grayscale visualization\n",
    "        plt.axis(\"off\")\n",
    "    plt.tight_layout()\n",
    "    plt.show()\n"
   ]
  },
  {
   "cell_type": "markdown",
   "metadata": {
    "id": "A1y15q7DkdqT"
   },
   "source": [
    "## 1d) Counting the positive and negative samples"
   ]
  },
  {
   "cell_type": "code",
   "execution_count": 7,
   "metadata": {
    "id": "MNxZHt0NkdEF"
   },
   "outputs": [],
   "source": [
    "def count_samples(dataset):\n",
    "    \"\"\"\n",
    "    Count the number of positive and negative samples in the dataset.\n",
    "\n",
    "    Args:\n",
    "        dataset (WIDERFaceBinaryDataset): The dataset object.\n",
    "\n",
    "    Returns:\n",
    "        dict: A dictionary with counts of positive and negative samples.\n",
    "    \"\"\"\n",
    "    positive_count = 0\n",
    "    negative_count = 0\n",
    "\n",
    "    # Iterate through the dataset to count labels\n",
    "    for _, label in dataset:\n",
    "        if label == 1:\n",
    "            positive_count += 1\n",
    "        elif label == 0:\n",
    "            negative_count += 1\n",
    "\n",
    "    return {\"positive\": positive_count, \"negative\": negative_count}\n"
   ]
  },
  {
   "cell_type": "markdown",
   "metadata": {
    "id": "ioxR5kQAoCCo"
   },
   "source": [
    "## Looking at the dataset"
   ]
  },
  {
   "cell_type": "code",
   "execution_count": 8,
   "metadata": {
    "colab": {
     "base_uri": "https://localhost:8080/",
     "height": 1000
    },
    "id": "TZxib28Kvv4y",
    "outputId": "502cb050-6b95-40f3-ba58-e03c61433d5a"
   },
   "outputs": [
    {
     "name": "stdout",
     "output_type": "stream",
     "text": [
      "Samples shape: torch.Size([1, 32, 36]), Labels: 1\n",
      "Positive samples (faces): 159393\n",
      "Negative samples (non-faces): 64400\n"
     ]
    },
    {
     "data": {
      "image/png": "[encoded data removed]",
      "text/plain": [
       "<Figure size 1200x600 with 16 Axes>"
      ]
     },
     "metadata": {},
     "output_type": "display_data"
    },
    {
     "data": {
      "image/png": "[encoded data removed]",
      "text/plain": [
       "<Figure size 1200x600 with 16 Axes>"
      ]
     },
     "metadata": {},
     "output_type": "display_data"
    }
   ],
   "source": [
    "# Paths\n",
    "image_dir = \"WIDER_train/WIDER_train/images\"\n",
    "annotations_file = \"wider_face_split/wider_face_split/wider_face_train_bbx_gt.txt\"\n",
    "\n",
    "# Transformations\n",
    "transform = Compose([\n",
    "    ToTensor(),\n",
    "    Normalize((0.5,), (0.5,))  # Normalize if needed\n",
    "])\n",
    "\n",
    "# Create Dataset\n",
    "dataset = WIDERFaceBinaryDataset(image_dir, annotations_file, transform=transform)\n",
    "\n",
    "# Test a single sample\n",
    "samples, labels = dataset[0]  # Get the first sample\n",
    "print(f\"Samples shape: {samples.shape}, Labels: {labels}\")\n",
    "\n",
    "sample_counts = count_samples(dataset)\n",
    "print(f\"Positive samples (faces): {sample_counts['positive']}\")\n",
    "print(f\"Negative samples (non-faces): {sample_counts['negative']}\")\n",
    "\n",
    "# Visualize positive and negative samples\n",
    "visualize_samples(dataset, num_samples=16)"
   ]
  },
  {
   "cell_type": "markdown",
   "metadata": {
    "id": "UTQboSWLtB5G"
   },
   "source": []
  },
  {
   "cell_type": "markdown",
   "metadata": {
    "id": "gt7qraShoGs7"
   },
   "source": [
    "# 2) Creating Model\n",
    "In this section we aim to implement [4.1](https://arxiv.org/pdf/2208.00087) in the research paper. It is based on the[ Convolution Face Finder](https://ieeexplore.ieee.org/document/1335446). Before doing that, we must tackle the two things aimed to reduce the computational complexity of the neural network, the **convolutional filter** and the **activation functions**\n",
    "\n",
    "\n",
    "\n"
   ]
  },
  {
   "cell_type": "markdown",
   "metadata": {
    "id": "t_it9sWVvnNB"
   },
   "source": [
    "## low-complexity approximate convolutional filters\n",
    "We need to find approximate convolutional filter by solving for each\n",
    "exact convolutional filter from a given ConvNet. This is done through the usage of **dyadic rationals**. These represent the weights of the convlutional filter, helping achieve low-complexity approximates.\n",
    "\n",
    "Here we create a function to approximate convolutional filter weights using dyadic rationals in PyTorch"
   ]
  },
  {
   "cell_type": "code",
   "execution_count": 9,
   "metadata": {
    "id": "55X6NOrC2A_g"
   },
   "outputs": [],
   "source": [
    "import torch\n",
    "import torch.nn as nn\n",
    "import torch.nn.functional as F\n",
    "from sklearn.metrics import precision_recall_curve, average_precision_score\n",
    "import matplotlib.pyplot as plt\n",
    "import time\n",
    "import pandas as pd"
   ]
  },
  {
   "cell_type": "code",
   "execution_count": 10,
   "metadata": {
    "id": "lLZ8oRSow6KU"
   },
   "outputs": [],
   "source": [
    "def approximate_with_dyadic_rationals(tensor, max_b=1):\n",
    "    \"\"\"\n",
    "    Approximate tensor values using dyadic rationals of the form a / 2^b.\n",
    "    Here, max_b=1 applies D1 (a / 2^1) approximation.\n",
    "    \"\"\"\n",
    "    flat_tensor = tensor.flatten()\n",
    "    approximated = torch.zeros_like(flat_tensor)\n",
    "\n",
    "    for i, value in enumerate(flat_tensor):\n",
    "        value = value.item()  # Convert tensor value to scalar\n",
    "        best_a, best_b = 0, 0\n",
    "        best_diff = float(\"inf\")\n",
    "\n",
    "        for b in range(max_b + 1):\n",
    "            a = round(value * (2 ** b))  # Perform rounding on scalar\n",
    "            dyadic = a / (2 ** b)\n",
    "            diff = abs(value - dyadic)\n",
    "            if diff < best_diff:\n",
    "                best_diff = diff\n",
    "                best_a, best_b = a, b\n",
    "\n",
    "        approximated[i] = best_a / (2 ** best_b)\n",
    "\n",
    "    return approximated.view(tensor.shape)\n"
   ]
  },
  {
   "cell_type": "code",
   "execution_count": 11,
   "metadata": {
    "id": "es9-s6cxx2so"
   },
   "outputs": [],
   "source": [
    "def apply_dyadic_approximation(conv_layer, max_b=10):\n",
    "    \"\"\"\n",
    "    Approximate the weights of a convolutional layer using dyadic rationals.\n",
    "    \"\"\"\n",
    "    conv_layer.weight.data = approximate_with_dyadic_rationals(conv_layer.weight.data, max_b)\n",
    "    if conv_layer.bias is not None:\n",
    "        conv_layer.bias.data = approximate_with_dyadic_rationals(conv_layer.bias.data, max_b)\n",
    "    return conv_layer"
   ]
  },
  {
   "cell_type": "markdown",
   "metadata": {
    "id": "6Lrh32i4tl56"
   },
   "source": [
    "## Model Architecture\n",
    "**Input Size**: 32 x 36 grayscale images\n",
    "**Layers\n",
    "*   Convolution + Average Pooling Layers\n",
    "    * Layer 1: 4 filters of size 5 x 5  \n",
    "    * Layer 2: 20 filters of size 3 x 3\n",
    "    * Layer 3: 14 filters (fully connected convolution of size 6 x 7).\n",
    "*   Output\n",
    "    * Fully connected layer with 14 neurons followed by a single neuron for binary classification\n",
    "\n",
    "**Approximate Activation Functions**\n",
    "* continuous tanh-sigmoid function (our **exact**)\n",
    "* Alippi and Storti-Gajani (ASG)\n",
    "* Piecewise linear approximation of a non-linear function (PLAN)\n",
    "* Simple Linear Functions\n",
    "* Quadratic functions\n",
    "\n",
    "\n",
    "\n",
    "\n",
    "\n",
    "\n",
    "\n",
    "\n",
    "\n"
   ]
  },
  {
   "cell_type": "markdown",
   "metadata": {
    "id": "mxQVhROW07N1"
   },
   "source": [
    "## Table : Approximations for the tanh-sigmoid\n",
    "\n",
    "| **Type**         | **Approximation**                                                                                                   |\n",
    "|-------------------|--------------------------------------------------------------------------------------------------------------------|\n",
    "| **ASG-based**    | $$\n",
    "\\sigma_1(x) = \\hat{\\alpha} \\begin{cases}\n",
    "-1 + \\frac{1 + \\frac{|x| - x}{2}}{2^{|x|}}, & x < 0, \\\\\\\\\n",
    "1 - \\frac{1 + \\frac{|x| - x}{2}}{2^{|x|}}, & x \\geq 0.\n",
    "\\end{cases}\n",
    "$$|\n",
    "| **PLAN-based**   | $$\n",
    "\\sigma_2(x) = \\hat{\\alpha} \\begin{cases}\n",
    "-1, & x < -5, \\\\\\\\\n",
    "\\frac{x}{16} - \\frac{89}{128}, & -5 \\leq x < -\\frac{19}{8}, \\\\\\\\\n",
    "\\frac{x}{4}, & -\\frac{19}{8} \\leq x < -1, \\\\\\\\\n",
    "\\frac{x}{4} + \\frac{1}{4}, & -1 \\leq x < 1, \\\\\\\\\n",
    "\\frac{x}{16} + \\frac{11}{16}, & 1 \\leq x < \\frac{19}{8}, \\\\\\\\\n",
    "1, & x \\geq 5.\n",
    "\\end{cases}\n",
    "$$ |\n",
    "| **Linear I**     | $$\n",
    "\\sigma_4(x) = \\hat{\\alpha} \\begin{cases}\n",
    "-1, & x < -2, \\\\\\\\\n",
    "\\frac{x}{2}, & -2 \\leq x < 2, \\\\\\\\\n",
    "1, & x \\geq 2.\n",
    "\\end{cases}\n",
    "$$ |\n",
    "| **Linear II**    | $$\n",
    "\\sigma_4(x) = \\hat{\\alpha} \\begin{cases}\n",
    "-1, & x < -2, \\\\\\\\\n",
    "\\frac{x}{2}, & -2 \\leq x < 2, \\\\\\\\\n",
    "1, & x \\geq 2.\n",
    "\\end{cases}\n",
    "$$ |\n",
    "| **Quadratic I**  | $$\n",
    "\\sigma_5(x) = \\hat{\\alpha} \\begin{cases}\n",
    "-1, & x < -4, \\\\\\\\\n",
    "\\left(\\frac{x}{4} + 1\\right)^2 - 1, & -4 \\leq x < 0, \\\\\\\\\n",
    "1 - \\left(\\frac{x}{4} - 1\\right)^2, & 0 \\leq x < 4, \\\\\\\\\n",
    "1, & x \\geq 4.\n",
    "\\end{cases}\n",
    "$$ |\n",
    "| **Quadratic II** | $$\n",
    "\\sigma_6(x) = \\hat{\\alpha} \\begin{cases}\n",
    "-1, & x < -2, \\\\\\\\\n",
    "\\left(\\frac{x}{2} + 1\\right)^2 - 1, & -2 \\leq x < 0, \\\\\\\\\n",
    "1 - \\left(\\frac{x}{2} - 1\\right)^2, & 0 \\leq x < 2, \\\\\\\\\n",
    "1, & x \\geq 2.\n",
    "\\end{cases}\n",
    "$$ |"
   ]
  },
  {
   "cell_type": "markdown",
   "metadata": {
    "id": "GixZgWbP0_F3"
   },
   "source": [
    "## Approximation activation functions implementation"
   ]
  },
  {
   "cell_type": "code",
   "execution_count": 12,
   "metadata": {
    "id": "lKJzz4wz0-r-"
   },
   "outputs": [],
   "source": [
    "# Define all activation functions\n",
    "class ASGActivation(nn.Module):\n",
    "    def __init__(self, a=7/4):\n",
    "        super(ASGActivation, self).__init__()\n",
    "        self.a = a\n",
    "\n",
    "    def forward(self, x):\n",
    "        abs_x = torch.abs(x)  # Compute |x|\n",
    "        term = (abs_x - x) / (2 * self.a)  # Compute (|x| - x) / (2a)\n",
    "\n",
    "        # Apply the piecewise function\n",
    "        result = torch.where(x < 0, self.a * term, -self.a * term)\n",
    "        return result\n",
    "\n",
    "class PLANActivation(nn.Module):\n",
    "    def forward(self, x):\n",
    "        return torch.where(\n",
    "            x < -5, -1,\n",
    "            torch.where(\n",
    "                x < -19/8, x / 16 - 89/128,\n",
    "                torch.where(\n",
    "                    x < -1, x / 4,\n",
    "                    torch.where(\n",
    "                        x < 1, x / 4 + 1/4,\n",
    "                        torch.where(\n",
    "                            x < 19/8, x / 16 + 11/16,\n",
    "                            torch.where(x < 5, 1, 1)\n",
    "                        )\n",
    "                    )\n",
    "                )\n",
    "            )\n",
    "        )\n",
    "\n",
    "class LinearIActivation(nn.Module):\n",
    "    def forward(self, x):\n",
    "        return torch.where(\n",
    "            x < -4, -1,\n",
    "            torch.where(\n",
    "                x < 4, x / 4,\n",
    "                1\n",
    "            )\n",
    "        )\n",
    "\n",
    "class LinearIIActivation(nn.Module):\n",
    "    def forward(self, x):\n",
    "        return torch.where(\n",
    "            x < -2, -1,\n",
    "            torch.where(\n",
    "                x < 2, x / 2,\n",
    "                1\n",
    "            )\n",
    "        )\n",
    "\n",
    "class QuadraticIActivation(nn.Module):\n",
    "    def forward(self, x):\n",
    "        return torch.where(\n",
    "            x < -4, -1,\n",
    "            torch.where(\n",
    "                x < 0, (x / 4 + 1)**2 - 1,\n",
    "                torch.where(\n",
    "                    x < 4, 1 - (x / 4 - 1)**2,\n",
    "                    1\n",
    "                )\n",
    "            )\n",
    "        )\n",
    "\n",
    "class QuadraticIIActivation(nn.Module):\n",
    "    def forward(self, x):\n",
    "        return torch.where(\n",
    "            x < -2, -1,\n",
    "            torch.where(\n",
    "                x < 0, (x / 2 + 1)**2 - 1,\n",
    "                torch.where(\n",
    "                    x < 2, 1 - (x / 2 - 1)**2,\n",
    "                    1\n",
    "                )\n",
    "            )\n",
    "        )\n",
    "\n",
    "# Select activation function\n",
    "def get_activation(name):\n",
    "    if name == \"asg\":\n",
    "        return ASGActivation()\n",
    "    elif name == \"plan\":\n",
    "        return PLANActivation()\n",
    "    elif name == \"linear_i\":\n",
    "        return LinearIActivation()\n",
    "    elif name == \"linear_ii\":\n",
    "        return LinearIIActivation()\n",
    "    elif name == \"quadratic_i\":\n",
    "        return QuadraticIActivation()\n",
    "    elif name == \"quadratic_ii\":\n",
    "        return QuadraticIIActivation()\n",
    "    elif name == \"tanh\":\n",
    "        return nn.Tanh()\n",
    "    else:\n",
    "        raise ValueError(f\"Unknown activation: {name}\")"
   ]
  },
  {
   "cell_type": "markdown",
   "metadata": {
    "id": "YEy-sp9U3A-Z"
   },
   "source": [
    "## CFF Model Implementation"
   ]
  },
  {
   "cell_type": "code",
   "execution_count": 13,
   "metadata": {
    "id": "XxulGdTVtlRf"
   },
   "outputs": [],
   "source": [
    "# CFFBinaryClassifier\n",
    "class CFFBinaryClassifier(nn.Module):\n",
    "    def __init__(self, input_size=(32, 36), activation_name=\"tanh\"):\n",
    "        super(CFFBinaryClassifier, self).__init__()\n",
    "        self.activation = get_activation(activation_name)\n",
    "\n",
    "        # Layer 1: Convolution + Average Pooling\n",
    "        self.conv1 = nn.Conv2d(1, 4, kernel_size=5, padding=2)\n",
    "        self.pool1 = nn.AvgPool2d(kernel_size=2, stride=2)\n",
    "\n",
    "        # Layer 2: Convolution + Average Pooling\n",
    "        self.conv2 = nn.Conv2d(4, 20, kernel_size=3, padding=1)\n",
    "        self.pool2 = nn.AvgPool2d(kernel_size=2, stride=2)\n",
    "\n",
    "        # Placeholder for dynamically determined layers\n",
    "        self.conv3 = None\n",
    "        self.fc1 = None\n",
    "        self.fc2 = nn.Linear(14, 1)\n",
    "\n",
    "        # Dynamically configure the final layers\n",
    "        self._configure_final_layers(input_size)\n",
    "\n",
    "    def _configure_final_layers(self, input_size):\n",
    "        with torch.no_grad():\n",
    "            dummy_input = torch.randn(1, 1, *input_size)\n",
    "            dummy_output = self.pool2(self.conv2(self.pool1(self.conv1(dummy_input))))\n",
    "\n",
    "            h, w = dummy_output.shape[2], dummy_output.shape[3]\n",
    "            self.conv3 = nn.Conv2d(20, 14, kernel_size=(h, w))\n",
    "            self.fc1 = nn.Linear(14, 14)\n",
    "\n",
    "    def forward(self, x):\n",
    "        x = self.activation(self.pool1(self.conv1(x)))\n",
    "        x = self.activation(self.pool2(self.conv2(x)))\n",
    "        x = self.activation(self.conv3(x))\n",
    "\n",
    "        x = x.view(x.size(0), -1)\n",
    "        x = self.activation(self.fc1(x))\n",
    "        x = torch.sigmoid(self.fc2(x))\n",
    "        return x\n"
   ]
  },
  {
   "cell_type": "markdown",
   "metadata": {
    "id": "yeZVOPksyU8R"
   },
   "source": [
    "# 3) Training"
   ]
  },
  {
   "cell_type": "markdown",
   "metadata": {
    "id": "GBRNpv8J3QuA"
   },
   "source": [
    "## Data Preperation and spliting the data into training and validation set 8:2"
   ]
  },
  {
   "cell_type": "code",
   "execution_count": null,
   "metadata": {
    "id": "bROWcCmfyUld"
   },
   "outputs": [
    {
     "ename": "FileNotFoundError",
     "evalue": "[Errno 2] No such file or directory: '/content/wider_face_split/wider_face_train_bbx_gt.txt'",
     "output_type": "error",
     "traceback": [
      "\u001b[0;31m---------------------------------------------------------------------------\u001b[0m",
      "\u001b[0;31mFileNotFoundError\u001b[0m                         Traceback (most recent call last)",
      "Cell \u001b[0;32mIn[14], line 15\u001b[0m\n\u001b[1;32m      9\u001b[0m transform \u001b[38;5;241m=\u001b[39m Compose([\n\u001b[1;32m     10\u001b[0m     ToTensor(),  \u001b[38;5;66;03m# Convert NumPy array to PyTorch tensor\u001b[39;00m\n\u001b[1;32m     11\u001b[0m     Normalize((\u001b[38;5;241m0.5\u001b[39m,), (\u001b[38;5;241m0.5\u001b[39m,))  \u001b[38;5;66;03m# Normalize to [-1, 1] range\u001b[39;00m\n\u001b[1;32m     12\u001b[0m ])\n\u001b[1;32m     14\u001b[0m \u001b[38;5;66;03m# Create the dataset\u001b[39;00m\n\u001b[0;32m---> 15\u001b[0m dataset \u001b[38;5;241m=\u001b[39m WIDERFaceBinaryDataset(image_dir, annotations_file, transform\u001b[38;5;241m=\u001b[39mtransform)\n\u001b[1;32m     17\u001b[0m \u001b[38;5;66;03m# Split into training and validation datasets\u001b[39;00m\n\u001b[1;32m     18\u001b[0m train_size \u001b[38;5;241m=\u001b[39m \u001b[38;5;28mint\u001b[39m(\u001b[38;5;241m0.8\u001b[39m \u001b[38;5;241m*\u001b[39m \u001b[38;5;28mlen\u001b[39m(dataset))\n",
      "Cell \u001b[0;32mIn[5], line 4\u001b[0m, in \u001b[0;36mWIDERFaceBinaryDataset.__init__\u001b[0;34m(self, image_dir, annotations_file, transform, img_size, neg_samples_per_img)\u001b[0m\n\u001b[1;32m      2\u001b[0m \u001b[38;5;28;01mdef\u001b[39;00m \u001b[38;5;21m__init__\u001b[39m(\u001b[38;5;28mself\u001b[39m, image_dir, annotations_file, transform\u001b[38;5;241m=\u001b[39m\u001b[38;5;28;01mNone\u001b[39;00m, img_size\u001b[38;5;241m=\u001b[39m(\u001b[38;5;241m32\u001b[39m, \u001b[38;5;241m36\u001b[39m), neg_samples_per_img\u001b[38;5;241m=\u001b[39m\u001b[38;5;241m5\u001b[39m):\n\u001b[1;32m      3\u001b[0m     \u001b[38;5;28mself\u001b[39m\u001b[38;5;241m.\u001b[39mimage_dir \u001b[38;5;241m=\u001b[39m image_dir\n\u001b[0;32m----> 4\u001b[0m     \u001b[38;5;28mself\u001b[39m\u001b[38;5;241m.\u001b[39mannotations \u001b[38;5;241m=\u001b[39m \u001b[38;5;28mself\u001b[39m\u001b[38;5;241m.\u001b[39m_load_annotations(annotations_file)\n\u001b[1;32m      5\u001b[0m     \u001b[38;5;28mself\u001b[39m\u001b[38;5;241m.\u001b[39mtransform \u001b[38;5;241m=\u001b[39m transform\n\u001b[1;32m      6\u001b[0m     \u001b[38;5;28mself\u001b[39m\u001b[38;5;241m.\u001b[39mimg_size \u001b[38;5;241m=\u001b[39m img_size\n",
      "Cell \u001b[0;32mIn[5], line 12\u001b[0m, in \u001b[0;36mWIDERFaceBinaryDataset._load_annotations\u001b[0;34m(self, annotations_file)\u001b[0m\n\u001b[1;32m     10\u001b[0m \u001b[38;5;28;01mdef\u001b[39;00m \u001b[38;5;21m_load_annotations\u001b[39m(\u001b[38;5;28mself\u001b[39m, annotations_file):\n\u001b[1;32m     11\u001b[0m     annotations \u001b[38;5;241m=\u001b[39m {}\n\u001b[0;32m---> 12\u001b[0m     \u001b[38;5;28;01mwith\u001b[39;00m \u001b[38;5;28mopen\u001b[39m(annotations_file, \u001b[38;5;124m\"\u001b[39m\u001b[38;5;124mr\u001b[39m\u001b[38;5;124m\"\u001b[39m) \u001b[38;5;28;01mas\u001b[39;00m file:\n\u001b[1;32m     13\u001b[0m         lines \u001b[38;5;241m=\u001b[39m file\u001b[38;5;241m.\u001b[39mreadlines()\n\u001b[1;32m     14\u001b[0m         idx \u001b[38;5;241m=\u001b[39m \u001b[38;5;241m0\u001b[39m\n",
      "File \u001b[0;32m~/anaconda3/lib/python3.12/site-packages/IPython/core/interactiveshell.py:324\u001b[0m, in \u001b[0;36m_modified_open\u001b[0;34m(file, *args, **kwargs)\u001b[0m\n\u001b[1;32m    317\u001b[0m \u001b[38;5;28;01mif\u001b[39;00m file \u001b[38;5;129;01min\u001b[39;00m {\u001b[38;5;241m0\u001b[39m, \u001b[38;5;241m1\u001b[39m, \u001b[38;5;241m2\u001b[39m}:\n\u001b[1;32m    318\u001b[0m     \u001b[38;5;28;01mraise\u001b[39;00m \u001b[38;5;167;01mValueError\u001b[39;00m(\n\u001b[1;32m    319\u001b[0m         \u001b[38;5;124mf\u001b[39m\u001b[38;5;124m\"\u001b[39m\u001b[38;5;124mIPython won\u001b[39m\u001b[38;5;124m'\u001b[39m\u001b[38;5;124mt let you open fd=\u001b[39m\u001b[38;5;132;01m{\u001b[39;00mfile\u001b[38;5;132;01m}\u001b[39;00m\u001b[38;5;124m by default \u001b[39m\u001b[38;5;124m\"\u001b[39m\n\u001b[1;32m    320\u001b[0m         \u001b[38;5;124m\"\u001b[39m\u001b[38;5;124mas it is likely to crash IPython. If you know what you are doing, \u001b[39m\u001b[38;5;124m\"\u001b[39m\n\u001b[1;32m    321\u001b[0m         \u001b[38;5;124m\"\u001b[39m\u001b[38;5;124myou can use builtins\u001b[39m\u001b[38;5;124m'\u001b[39m\u001b[38;5;124m open.\u001b[39m\u001b[38;5;124m\"\u001b[39m\n\u001b[1;32m    322\u001b[0m     )\n\u001b[0;32m--> 324\u001b[0m \u001b[38;5;28;01mreturn\u001b[39;00m io_open(file, \u001b[38;5;241m*\u001b[39margs, \u001b[38;5;241m*\u001b[39m\u001b[38;5;241m*\u001b[39mkwargs)\n",
      "\u001b[0;31mFileNotFoundError\u001b[0m: [Errno 2] No such file or directory: '/content/wider_face_split/wider_face_train_bbx_gt.txt'"
     ]
    }
   ],
   "source": [
    "from torch.utils.data import DataLoader, random_split\n",
    "from torchvision.transforms import Compose, ToTensor, Normalize\n",
    "\n",
    "# Paths\n",
    "annotations_file = \"wider_face_split/wider_face_split/wider_face_train_bbx_gt.txt\"\n",
    "image_dir = \"WIDER_train/WIDER_train/images\"\n",
    "\n",
    "# Transformations\n",
    "transform = Compose([\n",
    "    ToTensor(),  # Convert NumPy array to PyTorch tensor\n",
    "    Normalize((0.5,), (0.5,))  # Normalize to [-1, 1] range\n",
    "])\n",
    "\n",
    "# Create the dataset\n",
    "dataset = WIDERFaceBinaryDataset(image_dir, annotations_file, transform=transform)\n",
    "\n",
    "# Split into training and validation datasets\n",
    "train_size = int(0.8 * len(dataset))\n",
    "val_size = len(dataset) - train_size\n",
    "train_dataset, val_dataset = random_split(dataset, [train_size, val_size])\n",
    "\n",
    "# Create DataLoaders\n",
    "train_loader = DataLoader(train_dataset, batch_size=32, shuffle=True)\n",
    "val_loader = DataLoader(val_dataset, batch_size=32, shuffle=False)\n"
   ]
  },
  {
   "cell_type": "markdown",
   "metadata": {
    "id": "9qQT4AHp7JJC"
   },
   "source": [
    "## Training Function\n",
    "change the number of epochs in the function here"
   ]
  },
  {
   "cell_type": "code",
   "execution_count": null,
   "metadata": {
    "id": "sH8UKq-M7Kmo"
   },
   "outputs": [],
   "source": [
    "# Training Function\n",
    "def train_model(model, train_loader, criterion, optimizer, num_epochs=5, device=\"cuda\"):\n",
    "    model.to(device)\n",
    "    for epoch in range(num_epochs):\n",
    "        model.train()\n",
    "        running_loss = 0.0\n",
    "\n",
    "        for images, labels in train_loader:\n",
    "            images, labels = images.to(device), labels.float().unsqueeze(1).to(device)\n",
    "\n",
    "            # Forward pass\n",
    "            outputs = model(images)\n",
    "            loss = criterion(outputs, labels)\n",
    "\n",
    "            # Backward pass\n",
    "            optimizer.zero_grad()\n",
    "            loss.backward()\n",
    "            optimizer.step()\n",
    "\n",
    "            running_loss += loss.item()\n",
    "\n",
    "        print(f\"Epoch [{epoch+1}/{num_epochs}], Loss: {running_loss/len(train_loader):.4f}\")\n"
   ]
  },
  {
   "cell_type": "markdown",
   "metadata": {
    "id": "qGM6Dflm7O0R"
   },
   "source": [
    "## Evaluation Functions"
   ]
  },
  {
   "cell_type": "code",
   "execution_count": null,
   "metadata": {
    "id": "G31u4g_H7LoL"
   },
   "outputs": [],
   "source": [
    "# Evaluation Function\n",
    "def evaluate_average_precision(model, data_loader, device=\"cuda\"):\n",
    "    model.eval()\n",
    "    all_labels = []\n",
    "    all_probs = []\n",
    "\n",
    "    with torch.no_grad():\n",
    "        for images, labels in data_loader:\n",
    "            images, labels = images.to(device), labels.to(device)\n",
    "\n",
    "            outputs = model(images)\n",
    "            probs = outputs.squeeze()\n",
    "\n",
    "            all_probs.append(probs.cpu())\n",
    "            all_labels.append(labels.cpu())\n",
    "\n",
    "    all_probs = torch.cat(all_probs).numpy()\n",
    "    all_labels = torch.cat(all_labels).numpy()\n",
    "\n",
    "    ap_score = average_precision_score(all_labels, all_probs)\n",
    "    return ap_score"
   ]
  },
  {
   "cell_type": "code",
   "execution_count": null,
   "metadata": {
    "id": "Na7mHbuo7bG8"
   },
   "outputs": [],
   "source": [
    "# Evaluate all activation functions\n",
    "def evaluate_activations_for_configurations(train_loader, test_loader, activation_names, configurations, device=\"cpu\"):\n",
    "    results = []\n",
    "    runtimes = []\n",
    "\n",
    "    for config_name, max_b_values in configurations.items():\n",
    "        print(f\"\\nEvaluating configuration: {config_name}\")\n",
    "\n",
    "        for activation_name in activation_names:\n",
    "            print(f\"  Activation: {activation_name}\")\n",
    "            model = CFFBinaryClassifier(activation_name=activation_name).to(device)\n",
    "\n",
    "            # Loss and optimizer\n",
    "            criterion = nn.BCELoss()\n",
    "            optimizer = torch.optim.Adam(model.parameters(), lr=0.001)\n",
    "\n",
    "            # Train the model and measure runtime\n",
    "            start_time = time.time()\n",
    "            train_model(model, train_loader, criterion, optimizer, num_epochs=5, device=device)\n",
    "            end_time = time.time()\n",
    "            runtime = end_time - start_time\n",
    "\n",
    "            # Apply dyadic rational approximation\n",
    "            model.conv1 = apply_dyadic_approximation(model.conv1, max_b=max_b_values.get(\"conv1\", 1))\n",
    "            model.conv2 = apply_dyadic_approximation(model.conv2, max_b=max_b_values.get(\"conv2\", 1))\n",
    "            model.conv3 = apply_dyadic_approximation(model.conv3, max_b=max_b_values.get(\"conv3\", 1))\n",
    "\n",
    "            # Evaluate the model\n",
    "            ap_score = evaluate_average_precision(model, test_loader, device=device)\n",
    "\n",
    "            # Collect results\n",
    "            results.append({\"configuration\": config_name, \"activation\": activation_name, \"average_precision\": ap_score})\n",
    "            runtimes.append({\"configuration\": config_name, \"activation\": activation_name, \"runtime_minutes\": int(runtime // 60), \"runtime_seconds\": int(runtime % 60)})\n",
    "\n",
    "    return pd.DataFrame(results), pd.DataFrame(runtimes)"
   ]
  },
  {
   "cell_type": "markdown",
   "metadata": {
    "id": "MPFVEFFs-q8B"
   },
   "source": [
    "## Training Loop\n",
    "Here you can choose which activation functions you would like to use as well as manipulate the convolution layers using a specific dyadic set."
   ]
  },
  {
   "cell_type": "code",
   "execution_count": null,
   "metadata": {
    "colab": {
     "base_uri": "https://localhost:8080/"
    },
    "id": "q24mcGBoAglR",
    "outputId": "177bd7f8-ae8f-4d6f-d85a-a4e6ca508a6f"
   },
   "outputs": [
    {
     "ename": "NameError",
     "evalue": "name 'evaluate_activations_for_configurations' is not defined",
     "output_type": "error",
     "traceback": [
      "\u001b[0;31m---------------------------------------------------------------------------\u001b[0m",
      "\u001b[0;31mNameError\u001b[0m                                 Traceback (most recent call last)",
      "Cell \u001b[0;32mIn[1], line 19\u001b[0m\n\u001b[1;32m      4\u001b[0m configurations \u001b[38;5;241m=\u001b[39m {\n\u001b[1;32m      5\u001b[0m         \u001b[38;5;124m\"\u001b[39m\u001b[38;5;124mA_1\u001b[39m\u001b[38;5;124m\"\u001b[39m: {\u001b[38;5;124m\"\u001b[39m\u001b[38;5;124mconv1\u001b[39m\u001b[38;5;124m\"\u001b[39m: \u001b[38;5;241m1\u001b[39m, \u001b[38;5;124m\"\u001b[39m\u001b[38;5;124mconv2\u001b[39m\u001b[38;5;124m\"\u001b[39m: \u001b[38;5;241m1\u001b[39m, \u001b[38;5;124m\"\u001b[39m\u001b[38;5;124mconv3\u001b[39m\u001b[38;5;124m\"\u001b[39m: \u001b[38;5;241m1\u001b[39m},\n\u001b[1;32m      6\u001b[0m         \u001b[38;5;124m\"\u001b[39m\u001b[38;5;124mA_2\u001b[39m\u001b[38;5;124m\"\u001b[39m: {\u001b[38;5;124m\"\u001b[39m\u001b[38;5;124mconv1\u001b[39m\u001b[38;5;124m\"\u001b[39m: \u001b[38;5;241m2\u001b[39m, \u001b[38;5;124m\"\u001b[39m\u001b[38;5;124mconv2\u001b[39m\u001b[38;5;124m\"\u001b[39m: \u001b[38;5;241m2\u001b[39m, \u001b[38;5;124m\"\u001b[39m\u001b[38;5;124mconv3\u001b[39m\u001b[38;5;124m\"\u001b[39m: \u001b[38;5;241m2\u001b[39m},\n\u001b[0;32m   (...)\u001b[0m\n\u001b[1;32m     16\u001b[0m         \u001b[38;5;66;03m# Add more configurations as needed\u001b[39;00m\n\u001b[1;32m     17\u001b[0m     }\n\u001b[1;32m     18\u001b[0m \u001b[38;5;66;03m# Evaluate and print results\u001b[39;00m\n\u001b[0;32m---> 19\u001b[0m ap_df, runtime_df \u001b[38;5;241m=\u001b[39m evaluate_activations_for_configurations(train_loader, val_loader,\n\u001b[1;32m     20\u001b[0m                                                             activation_names, configurations,\n\u001b[1;32m     21\u001b[0m                                                             device\u001b[38;5;241m=\u001b[39m\u001b[38;5;124m\"\u001b[39m\u001b[38;5;124mcpu\u001b[39m\u001b[38;5;124m\"\u001b[39m)\n\u001b[1;32m     22\u001b[0m \u001b[38;5;28mprint\u001b[39m(\u001b[38;5;124m\"\u001b[39m\u001b[38;5;130;01m\\n\u001b[39;00m\u001b[38;5;124mAverage Precision Scores:\u001b[39m\u001b[38;5;124m\"\u001b[39m)\n\u001b[1;32m     23\u001b[0m \u001b[38;5;28mprint\u001b[39m(ap_df)\n",
      "\u001b[0;31mNameError\u001b[0m: name 'evaluate_activations_for_configurations' is not defined"
     ]
    }
   ],
   "source": [
    "import pandas as pd\n",
    "activation_names = [\"tanh\", \"asg\", \"plan\", \"linear_i\", \"linear_ii\", \"quadratic_i\", \"quadratic_ii\"]\n",
    "activation_names = [\"asg\"]\n",
    "configurations = {\n",
    "        \"A_1\": {\"conv1\": 1, \"conv2\": 1, \"conv3\": 1},\n",
    "        \"A_2\": {\"conv1\": 2, \"conv2\": 2, \"conv3\": 2},\n",
    "        \"A_3\": {\"conv1\": 3, \"conv2\": 3, \"conv3\": 3},\n",
    "        \"A_4\": {\"conv1\": 4, \"conv2\": 4, \"conv3\": 4},\n",
    "        \"A_5\": {\"conv1\": 5, \"conv2\": 5, \"conv3\": 5},\n",
    "        \"A_6\": {\"conv1\": 6, \"conv2\": 6, \"conv3\": 6},\n",
    "        \"A_7\": {\"conv1\": 7, \"conv2\": 7, \"conv3\": 7},\n",
    "        \"A_8\": {\"conv1\": 8, \"conv2\": 8, \"conv3\": 8},\n",
    "        \"A_7_3_3\": {\"conv1\": 7, \"conv2\": 3, \"conv3\": 3},\n",
    "        \"A_7_4_4\": {\"conv1\": 7, \"conv2\": 4, \"conv3\": 4},\n",
    "        \"A_7_6_6\": {\"conv1\": 7, \"conv2\": 6, \"conv3\": 6},\n",
    "        # Add more configurations as needed\n",
    "    }\n",
    "# Evaluate and print results\n",
    "ap_df, runtime_df = evaluate_activations_for_configurations(train_loader, val_loader,\n",
    "                                                            activation_names, configurations,\n",
    "                                                            device=\"cpu\")\n",
    "print(\"\\nAverage Precision Scores:\")\n",
    "print(ap_df)\n",
    "print(\"\\nRuntime (minutes:seconds):\")\n",
    "print(runtime_df)\n",
    "\n",
    "# Save results to CSV\n",
    "ap_df.to_csv(\"average_precision_results.csv\", index=False)\n",
    "runtime_df.to_csv(\"runtime_results.csv\", index=False)\n",
    "\n"
   ]
  },
  {
   "cell_type": "markdown",
   "metadata": {
    "id": "DzrLNE_0RmfD"
   },
   "source": [
    "Things to do tmr:\n",
    "run this program in its entirety"
   ]
  }
 ],
 "metadata": {
  "accelerator": "GPU",
  "colab": {
   "gpuType": "T4",
   "provenance": []
  },
  "kernelspec": {
   "display_name": "base",
   "language": "python",
   "name": "python3"
  },
  "language_info": {
   "codemirror_mode": {
    "name": "ipython",
    "version": 3
   },
   "file_extension": ".py",
   "mimetype": "text/x-python",
   "name": "python",
   "nbconvert_exporter": "python",
   "pygments_lexer": "ipython3",
   "version": "3.12.7"
  }
 },
 "nbformat": 4,
 "nbformat_minor": 0
}
